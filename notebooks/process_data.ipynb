{
  "nbformat": 4,
  "nbformat_minor": 0,
  "metadata": {
    "colab": {
      "provenance": []
    },
    "kernelspec": {
      "name": "python3",
      "display_name": "Python 3"
    },
    "language_info": {
      "name": "python"
    }
  },
  "cells": [
    {
      "cell_type": "code",
      "execution_count": 1,
      "metadata": {
        "colab": {
          "base_uri": "https://localhost:8080/"
        },
        "id": "UfEu7uz-AANT",
        "outputId": "7eba9671-5507-4a0a-9ea6-42ef611d38c8"
      },
      "outputs": [
        {
          "output_type": "stream",
          "name": "stdout",
          "text": [
            "Requirement already satisfied: openpyxl in /usr/local/lib/python3.11/dist-packages (3.1.5)\n",
            "Requirement already satisfied: et-xmlfile in /usr/local/lib/python3.11/dist-packages (from openpyxl) (2.0.0)\n"
          ]
        }
      ],
      "source": [
        "pip install openpyxl"
      ]
    },
    {
      "cell_type": "code",
      "source": [
        "import os\n",
        "import pandas as pd\n",
        "from tqdm import tqdm\n",
        "\n",
        "def get_all_files(directory, extension):\n",
        "    matching_files = []\n",
        "    for root, _, files in os.walk(directory):\n",
        "        for file in files:\n",
        "            if file.lower().endswith(extension.lower()):\n",
        "                matching_files.append(os.path.join(root, file))\n",
        "    return matching_files\n",
        "\n",
        "def process_data(gps_dir, ambulance_dir, output_file='wynik.csv'):\n",
        "    # Ładowanie plików .xls/.xlsx z karetkami\n",
        "    xls_files = get_all_files(ambulance_dir, '.xlsx')\n",
        "    if not xls_files:\n",
        "        raise ValueError(\"Brak plików .xlsx z wyjazdami!\")\n",
        "\n",
        "    print(f\"Wczytywanie {len(xls_files)} plików z danymi karetek...\")\n",
        "    all_ambulance_data = [pd.read_excel(f) for f in xls_files]\n",
        "    ambulance_df = pd.concat(all_ambulance_data, ignore_index=True)\n",
        "\n",
        "    # Czyszczenie danych\n",
        "    ambulance_df['Czas wezwania'] = pd.to_datetime(ambulance_df['Czas wezwania'], errors='coerce')\n",
        "    ambulance_df['Czas wyjazdu ZRM'] = pd.to_datetime(ambulance_df['Czas wyjazdu ZRM'], errors='coerce')\n",
        "    ambulance_df['Czas powrotu ZRM'] = pd.to_datetime(ambulance_df['Czas powrotu ZRM'], errors='coerce')\n",
        "\n",
        "    # Uzupełnienie brakujących czasów wyjazdu\n",
        "    mask_missing_departure = ambulance_df['Czas wyjazdu ZRM'].isna()\n",
        "    ambulance_df.loc[mask_missing_departure, 'Czas wyjazdu ZRM'] = ambulance_df.loc[mask_missing_departure, 'Czas wezwania']\n",
        "\n",
        "    # Usunięcie braków\n",
        "    ambulance_df = ambulance_df.dropna(subset=['Czas wyjazdu ZRM', 'Czas powrotu ZRM'])\n",
        "\n",
        "    # Dodanie wyjazd_id\n",
        "    ambulance_df = ambulance_df.reset_index(drop=True)\n",
        "    ambulance_df['wyjazd_id'] = ambulance_df.index.map(lambda i: f\"WYZ_{i+1:05}\")\n",
        "\n",
        "    # Ładowanie plików GPS\n",
        "    gps_files = get_all_files(gps_dir, '.csv')\n",
        "    if not gps_files:\n",
        "        raise ValueError(\"Brak plików .csv z danymi GPS!\")\n",
        "\n",
        "    print(f\"Wczytywanie {len(gps_files)} plików z danymi GPS...\")\n",
        "    gps_data = pd.concat([pd.read_csv(f) for f in gps_files], ignore_index=True)\n",
        "\n",
        "    # Formatowanie daty i filtrowanie braków\n",
        "    gps_data['GPS_TIME'] = pd.to_datetime(gps_data['GPS_TIME'], errors='coerce')\n",
        "    gps_data = gps_data.dropna(subset=['GPS', 'GPS_TIME'])\n",
        "    gps_data['GPS'] = gps_data['GPS'].astype(str)\n",
        "    gps_data = gps_data.sort_values('GPS_TIME')\n",
        "\n",
        "    # Grupowanie po ID_GPS\n",
        "    gps_by_id = dict(tuple(gps_data.groupby('GPS')))\n",
        "    #print(gps_by_id)\n",
        "\n",
        "    print(\"Przetwarzanie wyjazdów i dopasowywanie danych GPS...\")\n",
        "\n",
        "    combined_data = []\n",
        "\n",
        "    for _, row in ambulance_df.iterrows():\n",
        "\n",
        "        id_gps = str((row['ID_GPS'])).strip().replace(\".0\",\"\")\n",
        "        czas_start = row['Czas wyjazdu ZRM']\n",
        "        czas_koniec = row['Czas powrotu ZRM']\n",
        "        wyjazd_id = row['wyjazd_id']\n",
        "        #print(id_gps)\n",
        "        gps_group = gps_by_id.get(id_gps)\n",
        "\n",
        "        if gps_group is None:\n",
        "            continue\n",
        "\n",
        "        gps_group = gps_group.set_index('GPS_TIME', drop=False)\n",
        "        match = gps_group.loc[czas_start:czas_koniec]\n",
        "\n",
        "\n",
        "        for _, gps_row in match.iterrows():\n",
        "            combined_data.append({\n",
        "                'wyjazd_id': wyjazd_id,\n",
        "                'ID_GPS': id_gps,\n",
        "                'Czas wyjazdu ZRM': czas_start,\n",
        "                'Czas powrotu ZRM': czas_koniec,\n",
        "                'Powód wezwania': row.get('Powód wezwania', ''),\n",
        "                'Kod pilności': row.get('Kod pilności', ''),\n",
        "                'Rodzaj wyjazdu': row.get('Rodzaj wyjazdu 0- na sygnale, 1 -zwykly', ''),\n",
        "                'Typ zespolu': row.get('Typ zespolu', ''),\n",
        "                'Określenie wieku pacjenta': row.get('Określenie wieku pacjenta 0- dziecko, 1 - dorosly', ''),\n",
        "                'GPS_TIME': gps_row['GPS_TIME'],\n",
        "                'GPS_LAT': gps_row.get('GPS_LAT', ''),\n",
        "                'GPS_LON': gps_row.get('GPS_LON', ''),\n",
        "                'GPS_SPEED': gps_row.get('GPS_SPEED', ''),\n",
        "                'SYGNALIZACJA_SWIETLNA': gps_row.get('SYGNALIZACJA_SWIETLNA', ''),\n",
        "                'SYGNALIZACJA_DZWIEKOWA': gps_row.get('SYGNALIZACJA_DZWIEKOWA', ''),\n",
        "            })\n",
        "\n",
        "    # Zapisz wynik do pliku\n",
        "    result_df = pd.DataFrame(combined_data)\n",
        "    result_df.to_csv(output_file, index=False)\n",
        "    print(f\"\\nZapisano {len(result_df)} rekordów do pliku: {output_file}\")\n"
      ],
      "metadata": {
        "id": "6NNRZMiTvfyI"
      },
      "execution_count": 47,
      "outputs": []
    },
    {
      "cell_type": "code",
      "source": [
        "process_data('/content/gps', '/content/kzw')"
      ],
      "metadata": {
        "colab": {
          "base_uri": "https://localhost:8080/"
        },
        "id": "HJ_PvBbLvnBc",
        "outputId": "adb5005f-2652-4385-8b74-cb6c8aa9377f"
      },
      "execution_count": 48,
      "outputs": [
        {
          "output_type": "stream",
          "name": "stdout",
          "text": [
            "Wczytywanie 2 plików z danymi karetek...\n",
            "Wczytywanie 3 plików z danymi GPS...\n",
            "Przetwarzanie wyjazdów i dopasowywanie danych GPS...\n",
            "\n",
            "Zapisano 481685 rekordów do pliku: wynik.csv\n"
          ]
        }
      ]
    }
  ]
}